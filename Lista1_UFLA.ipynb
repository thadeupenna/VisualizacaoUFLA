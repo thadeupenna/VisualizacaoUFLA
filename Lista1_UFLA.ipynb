{
  "nbformat": 4,
  "nbformat_minor": 0,
  "metadata": {
    "colab": {
      "name": "Lista1-UFLA.ipynb",
      "private_outputs": true,
      "provenance": [],
      "authorship_tag": "ABX9TyMzN41lZY32Guo2oLkSsTjc",
      "include_colab_link": true
    },
    "kernelspec": {
      "name": "python3",
      "display_name": "Python 3"
    },
    "language_info": {
      "name": "python"
    }
  },
  "cells": [
    {
      "cell_type": "markdown",
      "metadata": {
        "id": "view-in-github",
        "colab_type": "text"
      },
      "source": [
        "<a href=\"https://colab.research.google.com/github/thadeupenna/VisualizacaoUFLA/blob/main/Lista1_UFLA.ipynb\" target=\"_parent\"><img src=\"https://colab.research.google.com/assets/colab-badge.svg\" alt=\"Open In Colab\"/></a>"
      ]
    },
    {
      "cell_type": "markdown",
      "metadata": {
        "id": "bGu89bjFUJrG"
      },
      "source": [
        "Importe as bibliotecas `matplotlib` e `numpy`"
      ]
    },
    {
      "cell_type": "code",
      "metadata": {
        "id": "QIWTl4tNUH90"
      },
      "source": [
        ""
      ],
      "execution_count": null,
      "outputs": []
    },
    {
      "cell_type": "markdown",
      "metadata": {
        "id": "Vt68BhZXUVnn"
      },
      "source": [
        "Estes são dados para o Sistema Solar (Plutão é planeta, em consideração) "
      ]
    },
    {
      "cell_type": "code",
      "metadata": {
        "id": "LToMStcRUgMC"
      },
      "source": [
        "nomes = [\"Mercúrio\", \"Vênus\", \"Terra\", \"Marte\", \"Júpiter\", \"Saturno\", \"Urano\", \"Netuno\", \"Plutão\"]\n",
        "distancias = np.array([0.39, 0.72, 1.00, 1.52, 5.20, 9.54, 19.22, 30.06, 39.48])  \n",
        "periodos = np.array([0.24, 0.62, 1.00, 1.88, 11.86, 29.46, 84.01, 164.8, 248.09])"
      ],
      "execution_count": null,
      "outputs": []
    },
    {
      "cell_type": "markdown",
      "metadata": {
        "id": "SJdkElyuVetv"
      },
      "source": [
        "\n",
        "Imprima uma lista com os nomes dos planetas em ordem alfabética. Existe uma método para isso;   \n"
      ]
    },
    {
      "cell_type": "code",
      "metadata": {
        "id": "YcxEiiopVfTA"
      },
      "source": [
        ""
      ],
      "execution_count": null,
      "outputs": []
    },
    {
      "cell_type": "markdown",
      "metadata": {
        "id": "P55oMwpCVCyi"
      },
      "source": [
        "Faça um gráfico caprichado, das distâncias ao Sol em função dos planetas.\n",
        "Repita para os períodos\n"
      ]
    },
    {
      "cell_type": "code",
      "metadata": {
        "id": "SdhmNtB6VrIj"
      },
      "source": [
        ""
      ],
      "execution_count": null,
      "outputs": []
    },
    {
      "cell_type": "markdown",
      "metadata": {
        "id": "FB4prYO8UUTA"
      },
      "source": [
        "Faça um gráfico, do tipo 'scatter' para o período em função da distância. O que você pode concluir disso ? Qual a melhor escala para os eixos ? \n"
      ]
    },
    {
      "cell_type": "code",
      "metadata": {
        "id": "lqHc6WMoV6Es"
      },
      "source": [
        ""
      ],
      "execution_count": null,
      "outputs": []
    }
  ]
}