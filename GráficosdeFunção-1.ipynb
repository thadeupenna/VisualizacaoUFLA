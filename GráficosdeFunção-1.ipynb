{
  "nbformat": 4,
  "nbformat_minor": 0,
  "metadata": {
    "colab": {
      "name": "GráficosdeFunção.ipynb",
      "private_outputs": true,
      "provenance": [],
      "authorship_tag": "ABX9TyPpBsNpdLWIkMHGjJTSrViX",
      "include_colab_link": true
    },
    "kernelspec": {
      "name": "python3",
      "display_name": "Python 3"
    },
    "language_info": {
      "name": "python"
    }
  },
  "cells": [
    {
      "cell_type": "markdown",
      "metadata": {
        "id": "view-in-github",
        "colab_type": "text"
      },
      "source": [
        "<a href=\"https://colab.research.google.com/github/thadeupenna/VisualizacaoUFLA/blob/main/Gr%C3%A1ficosdeFun%C3%A7%C3%A3o-1.ipynb\" target=\"_parent\"><img src=\"https://colab.research.google.com/assets/colab-badge.svg\" alt=\"Open In Colab\"/></a>"
      ]
    },
    {
      "cell_type": "markdown",
      "metadata": {
        "id": "Xq1N0KcsPMvw"
      },
      "source": [
        "# Gráficos básicos\n"
      ]
    },
    {
      "cell_type": "markdown",
      "metadata": {
        "id": "6Y2IqJuXToZF"
      },
      "source": [
        "\n",
        "## Requisitos\n",
        "\n",
        "O pacote (*package*) responsável pelos gráficos matemáticos básicos é o `matplotlib`. Dentro dele, usamos o `pyplot`. \n",
        "\n"
      ]
    },
    {
      "cell_type": "code",
      "metadata": {
        "id": "vzuz2izNLxkE"
      },
      "source": [
        "import matplotlib.pyplot as plt "
      ],
      "execution_count": null,
      "outputs": []
    },
    {
      "cell_type": "markdown",
      "metadata": {
        "id": "3zyEjtI4TFxK"
      },
      "source": [
        "## Listas\n",
        "\n",
        "O tipo que é utilizado para plotagem são chamados de listas, que são conjuntos de objetos. \n",
        "\n"
      ]
    },
    {
      "cell_type": "code",
      "metadata": {
        "id": "VaeXERs0XN8c"
      },
      "source": [
        "a = [1,2,\"três\"]"
      ],
      "execution_count": null,
      "outputs": []
    },
    {
      "cell_type": "markdown",
      "metadata": {
        "id": "grx3tTztXbzZ"
      },
      "source": [
        "podemos mesmo ter listas de listas"
      ]
    },
    {
      "cell_type": "code",
      "metadata": {
        "id": "8JDelL_UXUYB"
      },
      "source": [
        "a = [1,2,\"três\", [4,\"quatro\"], 5]\n"
      ],
      "execution_count": null,
      "outputs": []
    },
    {
      "cell_type": "code",
      "metadata": {
        "id": "-9-o5X16XnAS"
      },
      "source": [
        "print(\"a[0]=\",a[0])\n",
        "print(\"a[0]= {}\".format(a[3]))"
      ],
      "execution_count": null,
      "outputs": []
    },
    {
      "cell_type": "code",
      "metadata": {
        "id": "iZ9s29Q-XogS"
      },
      "source": [
        "a[2] = 3\n",
        "a"
      ],
      "execution_count": null,
      "outputs": []
    },
    {
      "cell_type": "code",
      "metadata": {
        "id": "l_zrwy_wieV3"
      },
      "source": [
        "a = [1, 2, 3]\n",
        "b = [1, 4, 9]\n",
        "# a+b\n",
        "# a*2\n",
        "# a[3] = 4"
      ],
      "execution_count": null,
      "outputs": []
    },
    {
      "cell_type": "markdown",
      "metadata": {
        "id": "CYffBtZ0k9Nj"
      },
      "source": [
        "## Gráfico "
      ]
    },
    {
      "cell_type": "code",
      "metadata": {
        "id": "hUMtE5oDk7aZ"
      },
      "source": [
        "b[1] = 4\n",
        "plt.plot(a,b)"
      ],
      "execution_count": null,
      "outputs": []
    },
    {
      "cell_type": "code",
      "metadata": {
        "id": "JSFxilAzlfPx"
      },
      "source": [
        "plt.plot ([\"a\", \"b\", \"c\"], [\"d\", \"e\", \"f\"])"
      ],
      "execution_count": null,
      "outputs": []
    },
    {
      "cell_type": "code",
      "metadata": {
        "id": "xtFZJr8FX1vO"
      },
      "source": [
        "a[-1]\n",
        "a"
      ],
      "execution_count": null,
      "outputs": []
    },
    {
      "cell_type": "code",
      "metadata": {
        "id": "g7LcGMeFhtRk"
      },
      "source": [
        "a.append(7)\n",
        "a\n",
        "\n",
        "#dir(a)"
      ],
      "execution_count": null,
      "outputs": []
    },
    {
      "cell_type": "code",
      "metadata": {
        "id": "HM_4qjmEiNzt"
      },
      "source": [
        "a = range(10)\n",
        "a"
      ],
      "execution_count": null,
      "outputs": []
    },
    {
      "cell_type": "code",
      "metadata": {
        "id": "n1cz2Pnwp3pA"
      },
      "source": [
        "import numpy as np\n",
        "\n",
        "x = np.linspace(0,np.pi,100)"
      ],
      "execution_count": null,
      "outputs": []
    },
    {
      "cell_type": "code",
      "metadata": {
        "id": "dPjDQFj7qB_I"
      },
      "source": [
        "plt.plot(x, np.sin(x))"
      ],
      "execution_count": null,
      "outputs": []
    },
    {
      "cell_type": "code",
      "metadata": {
        "id": "3FjiahYzqRdd"
      },
      "source": [
        "plt.plot(x[50:], np.sin(x[50:]))"
      ],
      "execution_count": null,
      "outputs": []
    },
    {
      "cell_type": "code",
      "metadata": {
        "id": "cpKtO3tYrkQ1"
      },
      "source": [
        ""
      ],
      "execution_count": null,
      "outputs": []
    }
  ]
}