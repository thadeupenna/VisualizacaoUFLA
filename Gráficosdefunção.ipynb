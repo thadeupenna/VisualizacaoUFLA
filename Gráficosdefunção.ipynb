{
  "nbformat": 4,
  "nbformat_minor": 0,
  "metadata": {
    "colab": {
      "name": "Gráficosdefunção.ipynb",
      "private_outputs": true,
      "provenance": [],
      "mount_file_id": "1TSoJwFx5DEd0H6ecals2jJ___ESK_Iq5",
      "authorship_tag": "ABX9TyM2lCw7wOFi8iTvJ5DOfl1g",
      "include_colab_link": true
    },
    "kernelspec": {
      "name": "python3",
      "display_name": "Python 3"
    },
    "language_info": {
      "name": "python"
    }
  },
  "cells": [
    {
      "cell_type": "markdown",
      "metadata": {
        "id": "view-in-github",
        "colab_type": "text"
      },
      "source": [
        "<a href=\"https://colab.research.google.com/github/thadeupenna/VisualizacaoUFLA/blob/main/Gr%C3%A1ficosdefun%C3%A7%C3%A3o.ipynb\" target=\"_parent\"><img src=\"https://colab.research.google.com/assets/colab-badge.svg\" alt=\"Open In Colab\"/></a>"
      ]
    },
    {
      "cell_type": "markdown",
      "metadata": {
        "id": "4xA5WCTg28BQ"
      },
      "source": [
        "## Requerimentos"
      ]
    },
    {
      "cell_type": "code",
      "metadata": {
        "id": "fJKS32Bp2_fA"
      },
      "source": [
        "import numpy as np\n",
        "import matplotlib.pyplot as plt"
      ],
      "execution_count": null,
      "outputs": []
    },
    {
      "cell_type": "markdown",
      "metadata": {
        "id": "svp3z76C3F34"
      },
      "source": [
        "## Alterando listas"
      ]
    },
    {
      "cell_type": "code",
      "metadata": {
        "id": "UgyHhIgoj3kr"
      },
      "source": [
        "a = [1, 2, 3]\n",
        "a*2\n",
        "a.append(4)\n",
        "a"
      ],
      "execution_count": null,
      "outputs": []
    },
    {
      "cell_type": "code",
      "metadata": {
        "id": "iq1vDUirmlpF"
      },
      "source": [
        "a+4"
      ],
      "execution_count": null,
      "outputs": []
    },
    {
      "cell_type": "code",
      "metadata": {
        "id": "KQQQxzIrmqqc"
      },
      "source": [
        "a = [ 1, 2, 3 ]\n",
        "a = a + [4, 5] \n",
        "a"
      ],
      "execution_count": null,
      "outputs": []
    },
    {
      "cell_type": "markdown",
      "metadata": {
        "id": "B1-qBpUozXHn"
      },
      "source": [
        "## Laço `for`"
      ]
    },
    {
      "cell_type": "code",
      "metadata": {
        "id": "E9iBsty4m0Du"
      },
      "source": [
        "%%timeit\n",
        "\n",
        "b = []\n",
        "for i in range( len(a) ) :\n",
        "  b = b + [ a[i]*2 ]\n",
        "\n",
        "b"
      ],
      "execution_count": null,
      "outputs": []
    },
    {
      "cell_type": "markdown",
      "metadata": {
        "id": "ajfshZ3i2DfF"
      },
      "source": [
        "\n",
        "\n",
        "```\n",
        "# Isto está formatado como código\n",
        "```\n",
        "\n",
        "## Compreensão de Lista"
      ]
    },
    {
      "cell_type": "code",
      "metadata": {
        "id": "lna5oPXBnLRb"
      },
      "source": [
        "%%timeit\n",
        "b = [ i*2 for i in a ] "
      ],
      "execution_count": null,
      "outputs": []
    },
    {
      "cell_type": "markdown",
      "metadata": {
        "id": "BTy1xrEU2JPD"
      },
      "source": [
        "## Definição de Função"
      ]
    },
    {
      "cell_type": "code",
      "metadata": {
        "id": "k9AJq8lVrHtj"
      },
      "source": [
        "%%timeit\n",
        "def dobro(x):\n",
        "  return 2*x\n",
        "\n",
        "b = [ dobro(i) for i in a] \n",
        "b"
      ],
      "execution_count": null,
      "outputs": []
    },
    {
      "cell_type": "markdown",
      "metadata": {
        "id": "RfDG1Oiz2f5Z"
      },
      "source": [
        "## Funções Lambda\n"
      ]
    },
    {
      "cell_type": "code",
      "metadata": {
        "id": "rxw_pX2CrdcX"
      },
      "source": [
        "%%timeit\n",
        "\n",
        "dobro = lambda x: x*2\n",
        "b = [(dobro)(i) for i in a]\n",
        "b"
      ],
      "execution_count": null,
      "outputs": []
    },
    {
      "cell_type": "markdown",
      "metadata": {
        "id": "NtLrioes2m-j"
      },
      "source": [
        "### Map"
      ]
    },
    {
      "cell_type": "code",
      "metadata": {
        "id": "1ADXxvqIshU9"
      },
      "source": [
        "%%timeit\n",
        "dobro = lambda x: x*2\n",
        "\n",
        "b = list( map(dobro, a) )\n",
        "b"
      ],
      "execution_count": null,
      "outputs": []
    },
    {
      "cell_type": "markdown",
      "metadata": {
        "id": "sSXHju6n3NJz"
      },
      "source": [
        "## Os gráficos "
      ]
    },
    {
      "cell_type": "code",
      "metadata": {
        "id": "82k3l9PWt36H"
      },
      "source": [
        "a = [1, 2, 3]\n",
        "xp = np.linspace(-1,1,100)\n",
        "def f(x):\n",
        "   return np.sin(x)*np.cos(x)\n",
        "\n",
        "plt.plot(xp, f(xp));"
      ],
      "execution_count": null,
      "outputs": []
    },
    {
      "cell_type": "markdown",
      "metadata": {
        "id": "Sk_6piYu3zZL"
      },
      "source": [
        "## Modificando o gráfico\n",
        "\n",
        "### Tamanho \n",
        "\n",
        "[plt.figure](https://matplotlib.org/stable/api/_as_gen/matplotlib.pyplot.figure.html)"
      ]
    },
    {
      "cell_type": "code",
      "metadata": {
        "id": "IEHA4f-u3hHs"
      },
      "source": [
        "plt.figure(figsize = [6,6])\n",
        "plt.plot(xp, f(xp));"
      ],
      "execution_count": null,
      "outputs": []
    },
    {
      "cell_type": "code",
      "metadata": {
        "id": "UAmR0Wqs4LCc"
      },
      "source": [
        "plt.figure(figsize = [6,6], facecolor='y', frameon = True)\n",
        "plt.plot(xp, f(xp));\n",
        "plt.savefig(\"sincos.png\", transparent=True)"
      ],
      "execution_count": null,
      "outputs": []
    },
    {
      "cell_type": "markdown",
      "metadata": {
        "id": "9z7QHqZA60_V"
      },
      "source": [
        "### Cores \n",
        "\n",
        "[Nomes das cores](https://matplotlib.org/stable/gallery/color/named_colors.html)"
      ]
    },
    {
      "cell_type": "code",
      "metadata": {
        "id": "_oOgFDmr4aa3"
      },
      "source": [
        "plt.figure(figsize = [6,6])\n",
        "plt.plot(xp, f(xp), 'b' );"
      ],
      "execution_count": null,
      "outputs": []
    },
    {
      "cell_type": "code",
      "metadata": {
        "id": "8stCHesx7pml"
      },
      "source": [
        "plt.xlim(-0.5,0.5)\n",
        "plt.plot(xp,f(xp), 'r');"
      ],
      "execution_count": null,
      "outputs": []
    },
    {
      "cell_type": "code",
      "metadata": {
        "id": "tA5Kb0Nb8aug"
      },
      "source": [
        "plt.plot(xp,f(xp), 'r');"
      ],
      "execution_count": null,
      "outputs": []
    },
    {
      "cell_type": "code",
      "metadata": {
        "id": "9Jn1JX608pTI"
      },
      "source": [
        "plt.xlim(-0.5,0.5)\n",
        "plt.xlim(auto=True)\n",
        "plt.plot(xp,f(xp), 'r');"
      ],
      "execution_count": null,
      "outputs": []
    },
    {
      "cell_type": "code",
      "metadata": {
        "id": "ZVVUU2ua9Aau"
      },
      "source": [
        "plt.xlabel(\"x\")\n",
        "plt.ylabel(\"f(x)\")\n",
        "xp = np.linspace(-np.pi, np.pi, 100)\n",
        "plt.xlim(-np.pi, np.pi)\n",
        "plt.plot(xp, f(xp), linewidth=3)\n",
        "plt.plot(xp, np.sin(xp),  'r', lw=1, label= 'seno', )\n",
        "plt.plot(xp, np.cos(xp), 'g', lw=1, label = 'cosseno' );\n",
        "plt.legend()"
      ],
      "execution_count": null,
      "outputs": []
    },
    {
      "cell_type": "code",
      "metadata": {
        "id": "De0m-TzV95J5"
      },
      "source": [
        ""
      ],
      "execution_count": null,
      "outputs": []
    }
  ]
}